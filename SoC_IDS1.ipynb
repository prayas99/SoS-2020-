{
  "nbformat": 4,
  "nbformat_minor": 0,
  "metadata": {
    "kernelspec": {
      "display_name": "Python 3",
      "language": "python",
      "name": "python3"
    },
    "language_info": {
      "codemirror_mode": {
        "name": "ipython",
        "version": 3
      },
      "file_extension": ".py",
      "mimetype": "text/x-python",
      "name": "python",
      "nbconvert_exporter": "python",
      "pygments_lexer": "ipython3",
      "version": "3.7.3"
    },
    "colab": {
      "name": "SoC IDS1.ipynb",
      "provenance": [],
      "collapsed_sections": [],
      "include_colab_link": true
    }
  },
  "cells": [
    {
      "cell_type": "markdown",
      "metadata": {
        "id": "view-in-github",
        "colab_type": "text"
      },
      "source": [
        "<a href=\"https://colab.research.google.com/github/prayas99/SoS-2020-/blob/master/SoC_IDS1.ipynb\" target=\"_parent\"><img src=\"https://colab.research.google.com/assets/colab-badge.svg\" alt=\"Open In Colab\"/></a>"
      ]
    },
    {
      "cell_type": "code",
      "metadata": {
        "id": "FEVS2sDn_XY0",
        "colab_type": "code",
        "colab": {}
      },
      "source": [
        "import numpy as np\n",
        "import pandas as pd\n",
        "import torch.nn as nn\n",
        "import torch.optim as optim\n",
        "import sklearn\n",
        "from sklearn.model_selection import train_test_split\n",
        "import torch\n",
        "import torchvision\n",
        "import torchvision.transforms as transforms\n",
        "from torch.utils.data import Dataset, DataLoader\n",
        "import torch.utils.data as data_utils\n",
        "import seaborn as sns\n",
        "import matplotlib.pyplot as plt"
      ],
      "execution_count": 0,
      "outputs": []
    },
    {
      "cell_type": "code",
      "metadata": {
        "id": "YPfKFz4z_mDG",
        "colab_type": "code",
        "outputId": "a9a7ebc0-0d04-4874-89aa-d3181a4ec9bb",
        "colab": {
          "base_uri": "https://localhost:8080/",
          "height": 34
        }
      },
      "source": [
        "from google.colab import drive\n",
        "drive.mount('/content/drive')"
      ],
      "execution_count": 1245,
      "outputs": [
        {
          "output_type": "stream",
          "text": [
            "Drive already mounted at /content/drive; to attempt to forcibly remount, call drive.mount(\"/content/drive\", force_remount=True).\n"
          ],
          "name": "stdout"
        }
      ]
    },
    {
      "cell_type": "code",
      "metadata": {
        "id": "axJK3gzq_XY5",
        "colab_type": "code",
        "colab": {}
      },
      "source": [
        "#df = pd.read_csv(\"annthyroid.csv\",header = 0) don't use header=0 as it tells pandas to use first row as headers\n",
        "list1 = ['A','B','C','D','E','F','label']\n",
        "df = pd.read_csv('/content/drive/My Drive/annthyroid.csv',names=list1)"
      ],
      "execution_count": 0,
      "outputs": []
    },
    {
      "cell_type": "code",
      "metadata": {
        "id": "22wsQ07pSDmp",
        "colab_type": "code",
        "outputId": "c0f06c0d-ee7b-4a40-bd79-010a42a67afc",
        "colab": {
          "base_uri": "https://localhost:8080/",
          "height": 296
        }
      },
      "source": [
        "sns.countplot(x = 'label', data=df)"
      ],
      "execution_count": 1247,
      "outputs": [
        {
          "output_type": "execute_result",
          "data": {
            "text/plain": [
              "<matplotlib.axes._subplots.AxesSubplot at 0x7f8269a5de48>"
            ]
          },
          "metadata": {
            "tags": []
          },
          "execution_count": 1247
        },
        {
          "output_type": "display_data",
          "data": {
            "image/png": "[encoded data removed]",
            "text/plain": [
              "<Figure size 432x288 with 1 Axes>"
            ]
          },
          "metadata": {
            "tags": [],
            "needs_background": "light"
          }
        }
      ]
    },
    {
      "cell_type": "code",
      "metadata": {
        "id": "E6ZOHuzT_XY7",
        "colab_type": "code",
        "colab": {}
      },
      "source": [
        "d_input = df.iloc[:,:7]"
      ],
      "execution_count": 0,
      "outputs": []
    },
    {
      "cell_type": "code",
      "metadata": {
        "id": "Wzg0vt_E_XY-",
        "colab_type": "code",
        "outputId": "6654011a-f1cf-4427-ee8d-3b94e8ce3af8",
        "colab": {
          "base_uri": "https://localhost:8080/",
          "height": 195
        }
      },
      "source": [
        "d_input.head()"
      ],
      "execution_count": 1249,
      "outputs": [
        {
          "output_type": "execute_result",
          "data": {
            "text/html": [
              "<div>\n",
              "<style scoped>\n",
              "    .dataframe tbody tr th:only-of-type {\n",
              "        vertical-align: middle;\n",
              "    }\n",
              "\n",
              "    .dataframe tbody tr th {\n",
              "        vertical-align: top;\n",
              "    }\n",
              "\n",
              "    .dataframe thead th {\n",
              "        text-align: right;\n",
              "    }\n",
              "</style>\n",
              "<table border=\"1\" class=\"dataframe\">\n",
              "  <thead>\n",
              "    <tr style=\"text-align: right;\">\n",
              "      <th></th>\n",
              "      <th>A</th>\n",
              "      <th>B</th>\n",
              "      <th>C</th>\n",
              "      <th>D</th>\n",
              "      <th>E</th>\n",
              "      <th>F</th>\n",
              "      <th>label</th>\n",
              "    </tr>\n",
              "  </thead>\n",
              "  <tbody>\n",
              "    <tr>\n",
              "      <th>0</th>\n",
              "      <td>0.73</td>\n",
              "      <td>0.00060</td>\n",
              "      <td>0.015</td>\n",
              "      <td>0.120</td>\n",
              "      <td>0.082</td>\n",
              "      <td>0.146</td>\n",
              "      <td>0</td>\n",
              "    </tr>\n",
              "    <tr>\n",
              "      <th>1</th>\n",
              "      <td>0.24</td>\n",
              "      <td>0.00025</td>\n",
              "      <td>0.030</td>\n",
              "      <td>0.143</td>\n",
              "      <td>0.133</td>\n",
              "      <td>0.108</td>\n",
              "      <td>0</td>\n",
              "    </tr>\n",
              "    <tr>\n",
              "      <th>2</th>\n",
              "      <td>0.47</td>\n",
              "      <td>0.00190</td>\n",
              "      <td>0.024</td>\n",
              "      <td>0.102</td>\n",
              "      <td>0.131</td>\n",
              "      <td>0.078</td>\n",
              "      <td>0</td>\n",
              "    </tr>\n",
              "    <tr>\n",
              "      <th>3</th>\n",
              "      <td>0.64</td>\n",
              "      <td>0.00090</td>\n",
              "      <td>0.017</td>\n",
              "      <td>0.077</td>\n",
              "      <td>0.090</td>\n",
              "      <td>0.085</td>\n",
              "      <td>0</td>\n",
              "    </tr>\n",
              "    <tr>\n",
              "      <th>4</th>\n",
              "      <td>0.23</td>\n",
              "      <td>0.00025</td>\n",
              "      <td>0.026</td>\n",
              "      <td>0.139</td>\n",
              "      <td>0.090</td>\n",
              "      <td>0.153</td>\n",
              "      <td>0</td>\n",
              "    </tr>\n",
              "  </tbody>\n",
              "</table>\n",
              "</div>"
            ],
            "text/plain": [
              "      A        B      C      D      E      F  label\n",
              "0  0.73  0.00060  0.015  0.120  0.082  0.146      0\n",
              "1  0.24  0.00025  0.030  0.143  0.133  0.108      0\n",
              "2  0.47  0.00190  0.024  0.102  0.131  0.078      0\n",
              "3  0.64  0.00090  0.017  0.077  0.090  0.085      0\n",
              "4  0.23  0.00025  0.026  0.139  0.090  0.153      0"
            ]
          },
          "metadata": {
            "tags": []
          },
          "execution_count": 1249
        }
      ]
    },
    {
      "cell_type": "code",
      "metadata": {
        "id": "cMmn5gYQ_XZB",
        "colab_type": "code",
        "colab": {}
      },
      "source": [
        "class ExampleDataset(Dataset):\n",
        "    def __init__(self, data):\n",
        "        self.data = data\n",
        " \n",
        "    def __len__(self):\n",
        "        return len(self.data)\n",
        "    \n",
        "    def __getitem__(self, idx):\n",
        "        return self.data[idx]"
      ],
      "execution_count": 0,
      "outputs": []
    },
    {
      "cell_type": "code",
      "metadata": {
        "id": "-kbjZuAE_XZE",
        "colab_type": "code",
        "outputId": "0276fc57-c647-4fde-98ab-59ae27e27803",
        "colab": {
          "base_uri": "https://localhost:8080/",
          "height": 34
        }
      },
      "source": [
        "dataset = ExampleDataset(d_input)\n",
        "# dataset.len() Error!\n",
        "len(dataset) # Correct"
      ],
      "execution_count": 1251,
      "outputs": [
        {
          "output_type": "execute_result",
          "data": {
            "text/plain": [
              "7200"
            ]
          },
          "metadata": {
            "tags": []
          },
          "execution_count": 1251
        }
      ]
    },
    {
      "cell_type": "code",
      "metadata": {
        "id": "9JC4iX3CAfFl",
        "colab_type": "code",
        "colab": {}
      },
      "source": [
        ""
      ],
      "execution_count": 0,
      "outputs": []
    },
    {
      "cell_type": "code",
      "metadata": {
        "id": "sfYCLNIr_XZG",
        "colab_type": "code",
        "outputId": "b469b4e0-4e46-4e32-b213-650678d17e10",
        "colab": {
          "base_uri": "https://localhost:8080/",
          "height": 34
        }
      },
      "source": [
        "train, test = train_test_split(d_input, test_size=0.02)\n",
        "len(train)"
      ],
      "execution_count": 1252,
      "outputs": [
        {
          "output_type": "execute_result",
          "data": {
            "text/plain": [
              "7056"
            ]
          },
          "metadata": {
            "tags": []
          },
          "execution_count": 1252
        }
      ]
    },
    {
      "cell_type": "code",
      "metadata": {
        "id": "nZnsuCyp_XZK",
        "colab_type": "code",
        "colab": {}
      },
      "source": [
        "traindf = ExampleDataset(train)\n",
        "testdf = ExampleDataset(test)"
      ],
      "execution_count": 0,
      "outputs": []
    },
    {
      "cell_type": "code",
      "metadata": {
        "id": "RPWpgLN7_XZM",
        "colab_type": "code",
        "outputId": "ae216b69-63ec-4138-fe79-9686d4ee365d",
        "colab": {
          "base_uri": "https://localhost:8080/",
          "height": 195
        }
      },
      "source": [
        "train.head()"
      ],
      "execution_count": 1254,
      "outputs": [
        {
          "output_type": "execute_result",
          "data": {
            "text/html": [
              "<div>\n",
              "<style scoped>\n",
              "    .dataframe tbody tr th:only-of-type {\n",
              "        vertical-align: middle;\n",
              "    }\n",
              "\n",
              "    .dataframe tbody tr th {\n",
              "        vertical-align: top;\n",
              "    }\n",
              "\n",
              "    .dataframe thead th {\n",
              "        text-align: right;\n",
              "    }\n",
              "</style>\n",
              "<table border=\"1\" class=\"dataframe\">\n",
              "  <thead>\n",
              "    <tr style=\"text-align: right;\">\n",
              "      <th></th>\n",
              "      <th>A</th>\n",
              "      <th>B</th>\n",
              "      <th>C</th>\n",
              "      <th>D</th>\n",
              "      <th>E</th>\n",
              "      <th>F</th>\n",
              "      <th>label</th>\n",
              "    </tr>\n",
              "  </thead>\n",
              "  <tbody>\n",
              "    <tr>\n",
              "      <th>577</th>\n",
              "      <td>0.64</td>\n",
              "      <td>0.00189</td>\n",
              "      <td>0.0206</td>\n",
              "      <td>0.11118</td>\n",
              "      <td>0.099</td>\n",
              "      <td>0.11207</td>\n",
              "      <td>0</td>\n",
              "    </tr>\n",
              "    <tr>\n",
              "      <th>2053</th>\n",
              "      <td>0.44</td>\n",
              "      <td>0.02100</td>\n",
              "      <td>0.0206</td>\n",
              "      <td>0.07600</td>\n",
              "      <td>0.090</td>\n",
              "      <td>0.08400</td>\n",
              "      <td>0</td>\n",
              "    </tr>\n",
              "    <tr>\n",
              "      <th>3890</th>\n",
              "      <td>0.28</td>\n",
              "      <td>0.00460</td>\n",
              "      <td>0.0150</td>\n",
              "      <td>0.09200</td>\n",
              "      <td>0.102</td>\n",
              "      <td>0.09000</td>\n",
              "      <td>0</td>\n",
              "    </tr>\n",
              "    <tr>\n",
              "      <th>1440</th>\n",
              "      <td>0.62</td>\n",
              "      <td>0.00240</td>\n",
              "      <td>0.0200</td>\n",
              "      <td>0.10300</td>\n",
              "      <td>0.095</td>\n",
              "      <td>0.10900</td>\n",
              "      <td>0</td>\n",
              "    </tr>\n",
              "    <tr>\n",
              "      <th>2911</th>\n",
              "      <td>0.35</td>\n",
              "      <td>0.00003</td>\n",
              "      <td>0.0170</td>\n",
              "      <td>0.11400</td>\n",
              "      <td>0.098</td>\n",
              "      <td>0.11500</td>\n",
              "      <td>0</td>\n",
              "    </tr>\n",
              "  </tbody>\n",
              "</table>\n",
              "</div>"
            ],
            "text/plain": [
              "         A        B       C        D      E        F  label\n",
              "577   0.64  0.00189  0.0206  0.11118  0.099  0.11207      0\n",
              "2053  0.44  0.02100  0.0206  0.07600  0.090  0.08400      0\n",
              "3890  0.28  0.00460  0.0150  0.09200  0.102  0.09000      0\n",
              "1440  0.62  0.00240  0.0200  0.10300  0.095  0.10900      0\n",
              "2911  0.35  0.00003  0.0170  0.11400  0.098  0.11500      0"
            ]
          },
          "metadata": {
            "tags": []
          },
          "execution_count": 1254
        }
      ]
    },
    {
      "cell_type": "code",
      "metadata": {
        "id": "iGvcFng7_XZP",
        "colab_type": "code",
        "colab": {}
      },
      "source": [
        "train_labels = train.iloc[:, 6]\n",
        "train_inputs = train.iloc[:, :6]\n",
        "test_labels = test.iloc[:, 6]\n",
        "test_inputs = test.iloc[:, :6]"
      ],
      "execution_count": 0,
      "outputs": []
    },
    {
      "cell_type": "code",
      "metadata": {
        "id": "SuYDHSzTDGzI",
        "colab_type": "code",
        "colab": {}
      },
      "source": [
        "def normalize(x):\n",
        "    x_normed = x / x.max(0, keepdim=True)[0]\n",
        "    return x_normed"
      ],
      "execution_count": 0,
      "outputs": []
    },
    {
      "cell_type": "code",
      "metadata": {
        "id": "cHE48oP0_XZR",
        "colab_type": "code",
        "colab": {}
      },
      "source": [
        "train_target = torch.tensor(train_labels.values.astype(np.float32)) \n",
        "train = torch.tensor(train_inputs.values.astype(np.float32)) \n",
        "\n",
        "train = normalize(train)\n",
        "train_target = normalize(train_target)\n",
        "\n",
        "train_tensor = data_utils.TensorDataset(train, train_target) \n",
        "train_loader = data_utils.DataLoader(dataset = train_tensor, batch_size = 64, shuffle = True)"
      ],
      "execution_count": 0,
      "outputs": []
    },
    {
      "cell_type": "code",
      "metadata": {
        "id": "ygxc-wsl_XZU",
        "colab_type": "code",
        "colab": {}
      },
      "source": [
        "test_target = torch.tensor(test_labels.values.astype(np.float32))\n",
        "test = torch.tensor(test_inputs.values.astype(np.float32)) \n",
        "\n",
        "test_tensor = data_utils.TensorDataset(test,test_target) \n",
        "test_loader = data_utils.DataLoader(dataset = test_tensor, batch_size = 1, shuffle = False)"
      ],
      "execution_count": 0,
      "outputs": []
    },
    {
      "cell_type": "code",
      "metadata": {
        "id": "eNwhSXuzDlCD",
        "colab_type": "code",
        "outputId": "198027a7-128a-4fac-e10d-8614a99d1fb5",
        "colab": {
          "base_uri": "https://localhost:8080/",
          "height": 50
        }
      },
      "source": [
        "print(test.size())\n",
        "print(test_target.size())"
      ],
      "execution_count": 1259,
      "outputs": [
        {
          "output_type": "stream",
          "text": [
            "torch.Size([144, 6])\n",
            "torch.Size([144])\n"
          ],
          "name": "stdout"
        }
      ]
    },
    {
      "cell_type": "code",
      "metadata": {
        "id": "zQq2DPX6_XZb",
        "colab_type": "code",
        "colab": {}
      },
      "source": [
        "class binaryClassification(nn.Module):\n",
        "    def __init__(self):\n",
        "        super(binaryClassification, self).__init__()\n",
        "        # Number of input features is 6.\n",
        "        self.layer_1 = nn.Linear(6, 24) \n",
        "        self.layer_2 = nn.Linear(24, 32)\n",
        "        self.layer_out = nn.Linear(32, 1) \n",
        "        \n",
        "        self.relu = nn.ReLU()\n",
        "        self.dropout = nn.Dropout(p=0.1)\n",
        "        self.batchnorm1 = nn.BatchNorm1d(24)\n",
        "        self.batchnorm2 = nn.BatchNorm1d(32)\n",
        "        \n",
        "    def forward(self, inputs):\n",
        "        x = self.relu(self.layer_1(inputs))\n",
        "        x = self.batchnorm1(x)\n",
        "        x = self.relu(self.layer_2(x))\n",
        "        x = self.batchnorm2(x)\n",
        "        x = self.dropout(x)\n",
        "        x = self.layer_out(x)\n",
        "        \n",
        "        return x"
      ],
      "execution_count": 0,
      "outputs": []
    },
    {
      "cell_type": "code",
      "metadata": {
        "id": "wlnxrYPS_XZd",
        "colab_type": "code",
        "outputId": "1c17a596-ac4f-4194-ae77-61ffb2be1ee2",
        "colab": {
          "base_uri": "https://localhost:8080/",
          "height": 168
        }
      },
      "source": [
        "model = binaryClassification()\n",
        "print(model)\n",
        "criterion = nn.BCEWithLogitsLoss()\n",
        "optimizer = optim.Adam(model.parameters(), lr=0.01)"
      ],
      "execution_count": 1261,
      "outputs": [
        {
          "output_type": "stream",
          "text": [
            "binaryClassification(\n",
            "  (layer_1): Linear(in_features=6, out_features=24, bias=True)\n",
            "  (layer_2): Linear(in_features=24, out_features=32, bias=True)\n",
            "  (layer_out): Linear(in_features=32, out_features=1, bias=True)\n",
            "  (relu): ReLU()\n",
            "  (dropout): Dropout(p=0.1, inplace=False)\n",
            "  (batchnorm1): BatchNorm1d(24, eps=1e-05, momentum=0.1, affine=True, track_running_stats=True)\n",
            "  (batchnorm2): BatchNorm1d(32, eps=1e-05, momentum=0.1, affine=True, track_running_stats=True)\n",
            ")\n"
          ],
          "name": "stdout"
        }
      ]
    },
    {
      "cell_type": "code",
      "metadata": {
        "id": "gxW-gv_-Dil_",
        "colab_type": "code",
        "colab": {}
      },
      "source": [
        "def binary_acc(y_pred, y_test):\n",
        "    y_pred_tag = torch.round(torch.sigmoid(y_pred))\n",
        "\n",
        "    correct_results_sum = (y_pred_tag == y_test).sum().float()\n",
        "    acc = correct_results_sum/y_test.shape[0]\n",
        "    acc = torch.round(acc * 100)\n",
        "    \n",
        "    return acc"
      ],
      "execution_count": 0,
      "outputs": []
    },
    {
      "cell_type": "code",
      "metadata": {
        "id": "rdpDviQNDjJ-",
        "colab_type": "code",
        "outputId": "040d3729-a283-4dfd-a9ab-19593e79ef74",
        "colab": {
          "base_uri": "https://localhost:8080/",
          "height": 101
        }
      },
      "source": [
        "model.train()\n",
        "EPOCHS = 5\n",
        "for e in range(1, EPOCHS+1):\n",
        "    epoch_loss = 0\n",
        "    epoch_acc = 0\n",
        "    for X_batch, y_batch in train_loader:\n",
        "        #X_batch, y_batch = X_batch.to(device), y_batch.to(device)\n",
        "        optimizer.zero_grad()\n",
        "        \n",
        "        y_pred = model(X_batch)\n",
        "        \n",
        "        #print(y_pred.size())\n",
        "        #print(y_batch.size())\n",
        "        loss = criterion(y_pred, y_batch.unsqueeze(1))\n",
        "        #print(loss.size())\n",
        "        acc = binary_acc(y_pred, y_batch.unsqueeze(1))\n",
        "        \n",
        "        loss.backward()\n",
        "        optimizer.step()\n",
        "        \n",
        "        epoch_loss += loss.item()\n",
        "        epoch_acc += acc.item()\n",
        "        \n",
        "\n",
        "    print(f'Epoch {e}: | Loss: {epoch_loss/len(train_loader):.5f} | Acc: {epoch_acc/len(train_loader):.3f}')"
      ],
      "execution_count": 1263,
      "outputs": [
        {
          "output_type": "stream",
          "text": [
            "Epoch 1: | Loss: 0.22480 | Acc: 92.586\n",
            "Epoch 2: | Loss: 0.11175 | Acc: 95.775\n",
            "Epoch 3: | Loss: 0.08786 | Acc: 96.360\n",
            "Epoch 4: | Loss: 0.08459 | Acc: 96.225\n",
            "Epoch 5: | Loss: 0.07550 | Acc: 96.874\n"
          ],
          "name": "stdout"
        }
      ]
    },
    {
      "cell_type": "code",
      "metadata": {
        "id": "eyerEixB_XZo",
        "colab_type": "code",
        "colab": {}
      },
      "source": [
        "#torch.save(model, 'weights_only_8.pth')\n",
        "# 3 - 0.98 , 0.67\n",
        "# 8 - 0.97 , 0.43"
      ],
      "execution_count": 0,
      "outputs": []
    },
    {
      "cell_type": "code",
      "metadata": {
        "colab_type": "code",
        "id": "7ZIvKoMPvXkn",
        "colab": {}
      },
      "source": [
        "#model = binaryClassification()\n",
        "#model = torch.load('weights_only_3.pth')"
      ],
      "execution_count": 0,
      "outputs": []
    },
    {
      "cell_type": "code",
      "metadata": {
        "id": "8GGP-AsCDjHF",
        "colab_type": "code",
        "colab": {}
      },
      "source": [
        "y_pred_list = []\n",
        "y_correct = []\n",
        "model.eval()\n",
        "with torch.no_grad():\n",
        "    for X_batch, y_batch in test_loader:\n",
        "        #X_batch, y_batch = X_batch.to(device), y_batch.to(device)\n",
        "        y_test_pred = model(X_batch)\n",
        "        y_test_pred = torch.sigmoid(y_test_pred)\n",
        "        #y_pred_tag = torch.round(y_test_pred)\n",
        "        #y_pred_list.append(y_pred_tag.cpu().numpy())\n",
        "        y_pred_list.append(y_test_pred.cpu().numpy())\n",
        "        y_correct.append(y_batch.numpy())\n",
        "\n",
        "y_pred_list = [a.squeeze().tolist() for a in y_pred_list]\n",
        "y_correct_list = [a.squeeze().tolist() for a in y_correct]"
      ],
      "execution_count": 0,
      "outputs": []
    },
    {
      "cell_type": "code",
      "metadata": {
        "id": "WWxXeeQ9Y67r",
        "colab_type": "code",
        "colab": {}
      },
      "source": [
        "y_pred_ana = []\n",
        "y_pred_non = []\n",
        "temp1 = len(y_correct_list)\n",
        "for i in range(0,temp1):\n",
        "  if y_correct_list[i] == 1:\n",
        "    y_pred_ana.append(y_pred_list[i])\n",
        "  else:  \n",
        "    y_pred_non.append(y_pred_list[i])\n",
        "\n",
        "y_pred_non = [i * 100 for i in y_pred_non]\n",
        "y_pred_ana = [i * 100 for i in y_pred_ana]"
      ],
      "execution_count": 0,
      "outputs": []
    },
    {
      "cell_type": "code",
      "metadata": {
        "colab_type": "code",
        "outputId": "a3f35a7c-f2c0-4c1a-ce9c-bc9a48abe8ea",
        "id": "ZhMXuRN5t3kY",
        "colab": {
          "base_uri": "https://localhost:8080/",
          "height": 34
        }
      },
      "source": [
        "device = torch.device(\"cuda:0\" if torch.cuda.is_available() else \"cpu\")\n",
        "print(device)"
      ],
      "execution_count": 1268,
      "outputs": [
        {
          "output_type": "stream",
          "text": [
            "cpu\n"
          ],
          "name": "stdout"
        }
      ]
    },
    {
      "cell_type": "code",
      "metadata": {
        "id": "vkxV0LRTDjCQ",
        "colab_type": "code",
        "outputId": "5fe81486-e1be-4c10-8006-24fdc05e3bd5",
        "colab": {
          "base_uri": "https://localhost:8080/",
          "height": 296
        }
      },
      "source": [
        "data = y_pred_non\n",
        "bins = np.linspace(0, 100, 25, endpoint=True)\n",
        "plt.hist(data, bins,color = 'blue',alpha =0.5, label = 'Usual')\n",
        "\n",
        "data1 = y_pred_ana\n",
        "bins = np.linspace(0, 100, 25, endpoint=True)\n",
        "plt.hist(data1, bins,color = 'orange', label = 'Unusual')\n",
        "\n",
        "plt.legend(bbox_to_anchor=(1.05, 1), loc='upper left')\n",
        "plt.xlabel('Anamoaly Score')\n",
        "plt.ylabel('Occurences')"
      ],
      "execution_count": 1269,
      "outputs": [
        {
          "output_type": "execute_result",
          "data": {
            "text/plain": [
              "Text(0, 0.5, 'Occurences')"
            ]
          },
          "metadata": {
            "tags": []
          },
          "execution_count": 1269
        },
        {
          "output_type": "display_data",
          "data": {
            "image/png": "[encoded data removed]",
            "text/plain": [
              "<Figure size 432x288 with 1 Axes>"
            ]
          },
          "metadata": {
            "tags": [],
            "needs_background": "light"
          }
        }
      ]
    },
    {
      "cell_type": "code",
      "metadata": {
        "id": "ZirMrpeVDi7S",
        "colab_type": "code",
        "outputId": "7fd1ef88-05de-428a-ad50-cccd6aba0e5b",
        "colab": {
          "base_uri": "https://localhost:8080/",
          "height": 168
        }
      },
      "source": [
        "from sklearn.metrics import confusion_matrix, classification_report\n",
        "\n",
        "test_labels = np.array(test_labels)\n",
        "y_pred_list = np.array(y_pred_list)\n",
        "\n",
        "\n",
        "print(classification_report(test_labels, y_pred_list.round(), target_names=[\"Normal\", \"Abnormal\"]))"
      ],
      "execution_count": 1270,
      "outputs": [
        {
          "output_type": "stream",
          "text": [
            "              precision    recall  f1-score   support\n",
            "\n",
            "      Normal       0.99      0.99      0.99       135\n",
            "    Abnormal       0.80      0.89      0.84         9\n",
            "\n",
            "    accuracy                           0.98       144\n",
            "   macro avg       0.90      0.94      0.92       144\n",
            "weighted avg       0.98      0.98      0.98       144\n",
            "\n"
          ],
          "name": "stdout"
        }
      ]
    },
    {
      "cell_type": "code",
      "metadata": {
        "id": "kYLNWkTH_XZq",
        "colab_type": "code",
        "colab": {}
      },
      "source": [
        ""
      ],
      "execution_count": 0,
      "outputs": []
    },
    {
      "cell_type": "code",
      "metadata": {
        "id": "q-neorkP_XZs",
        "colab_type": "code",
        "colab": {}
      },
      "source": [
        ""
      ],
      "execution_count": 0,
      "outputs": []
    },
    {
      "cell_type": "code",
      "metadata": {
        "id": "SFgc6YK__XZy",
        "colab_type": "code",
        "colab": {}
      },
      "source": [
        ""
      ],
      "execution_count": 0,
      "outputs": []
    }
  ]
}